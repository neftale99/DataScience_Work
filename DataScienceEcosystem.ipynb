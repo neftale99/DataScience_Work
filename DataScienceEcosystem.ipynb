{
 "cells": [
  {
   "cell_type": "markdown",
   "id": "bc9079cf-5b44-450f-9f40-1e4a46bdbd57",
   "metadata": {
    "tags": []
   },
   "source": [
    "# (Data Science Tools and Ecosystem)\n"
   ]
  },
  {
   "cell_type": "markdown",
   "id": "ffc1ddfc-1651-427c-9c53-bc8617e3a3d1",
   "metadata": {},
   "source": [
    "In this notebook, Data Science Tools and Ecosystem are summarized\n",
    "#### **Objectives**\n",
    "- **List popular languages for Data Science**\n",
    "- **Introduce common Data Science libraries**\n",
    "- **Demonstrate basic arithmetic operations in code**\n",
    "- **Perform unit conversion in code**\n",
    "- **Create tables in Markdown cells**"
   ]
  },
  {
   "cell_type": "markdown",
   "id": "459f61d8-bf0c-447e-999d-c96da68aa2fd",
   "metadata": {},
   "source": [
    "Some of the popular languages that Data Scientist use are:\n",
    "1. Python\n",
    "2. R\n",
    "3. SQL\n",
    "4. JULIA"
   ]
  },
  {
   "cell_type": "markdown",
   "id": "dee1c67f-7c25-43d6-985c-f71772611cce",
   "metadata": {},
   "source": [
    "Some of the commonly used libraries used by Data Scientists include:\n",
    "1. NumPy\n",
    "2. Pandas\n",
    "3. Matplotlib"
   ]
  },
  {
   "cell_type": "markdown",
   "id": "cf2de0ef-38b6-4e5f-b578-afbe0578ed53",
   "metadata": {},
   "source": [
    "**Data Science Tools**\n",
    "\n",
    "| Data Science Tools        |\n",
    "|---------------------------|\n",
    "| 1. Jupyter Notebook       |\n",
    "| 2. RStudio                |\n",
    "| 3. Visual Studio Code     |\n"
   ]
  },
  {
   "cell_type": "markdown",
   "id": "f45fc084-2c26-44fa-8eb8-7dcfc518204a",
   "metadata": {
    "tags": []
   },
   "source": [
    "### Below are a few examples of evaluating arithmetic expressions in Python."
   ]
  },
  {
   "cell_type": "code",
   "execution_count": 6,
   "id": "1571bbef-d2c3-46e3-b4eb-1f4ffb9245e9",
   "metadata": {
    "tags": []
   },
   "outputs": [
    {
     "data": {
      "text/plain": [
       "17"
      ]
     },
     "execution_count": 6,
     "metadata": {},
     "output_type": "execute_result"
    }
   ],
   "source": [
    "# This a simple arithmetic expression to mutiply then add integers.\n",
    "result=(3*4)+5\n",
    "result"
   ]
  },
  {
   "cell_type": "code",
   "execution_count": 8,
   "id": "5985330b-a51a-45e3-806c-2b0dfb140423",
   "metadata": {
    "tags": []
   },
   "outputs": [
    {
     "data": {
      "text/plain": [
       "3.3333333333333335"
      ]
     },
     "execution_count": 8,
     "metadata": {},
     "output_type": "execute_result"
    }
   ],
   "source": [
    "#This will convert 200 minutes to hours by diving by 60.\n",
    "minutes = 200\n",
    "hours = minutes / 60\n",
    "hours"
   ]
  },
  {
   "cell_type": "markdown",
   "id": "30be6b3d-6911-4c2c-81bf-6cbf43e3b353",
   "metadata": {},
   "source": [
    "## Author\n",
    "Neftali Morales"
   ]
  },
  {
   "cell_type": "code",
   "execution_count": null,
   "id": "fd9b6d93-be26-4d2f-9993-27455d7b77c4",
   "metadata": {},
   "outputs": [],
   "source": []
  }
 ],
 "metadata": {
  "kernelspec": {
   "display_name": "Python 3 (ipykernel)",
   "language": "python",
   "name": "python3"
  },
  "language_info": {
   "codemirror_mode": {
    "name": "ipython",
    "version": 3
   },
   "file_extension": ".py",
   "mimetype": "text/x-python",
   "name": "python",
   "nbconvert_exporter": "python",
   "pygments_lexer": "ipython3",
   "version": "3.11.5"
  }
 },
 "nbformat": 4,
 "nbformat_minor": 5
}
